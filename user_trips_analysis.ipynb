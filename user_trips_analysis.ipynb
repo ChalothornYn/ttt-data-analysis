{
 "cells": [
  {
   "cell_type": "markdown",
   "id": "84fa0b07-34c4-48ff-8869-a1839025b1bf",
   "metadata": {},
   "source": [
    "## User Trips Data Analysis\n",
    "\n",
    "**Welcome to the Notebook for Thai Travel Thailand (TTT) User Trips Data Analysis**\n",
    "\n",
    "This notebook will walk you through the process of extracting user trips from the preprocessed 'transaction.csv' dataset. \r\n",
    "But that's not all! Towards the conclusion of this notebook, we will delve into a series of intriguing questions related to the extracted user tripss."
   ]
  },
  {
   "cell_type": "markdown",
   "id": "ae438ef8-24cb-4a33-89ac-adb2224b73b8",
   "metadata": {},
   "source": [
    "### 📚 Import library"
   ]
  },
  {
   "cell_type": "code",
   "execution_count": 1,
   "id": "8aefa58e-ef78-4a80-be71-4ce5f210e53c",
   "metadata": {},
   "outputs": [],
   "source": [
    "import pandas as pd"
   ]
  },
  {
   "cell_type": "markdown",
   "id": "8cf6d3cb-97c1-46e6-be85-9eaf35496fc0",
   "metadata": {},
   "source": [
    "### 💻 Import data\n",
    "We import both the **cleaned_user.csv** and **cleaned_transaction.csv** to pandas Dataframe."
   ]
  },
  {
   "cell_type": "code",
   "execution_count": 2,
   "id": "a46eb6f9-40f8-41e5-9437-9f98191403d6",
   "metadata": {},
   "outputs": [],
   "source": [
    "cleaned_user_df = pd.read_csv('data/process/cleaned_user.csv')\n",
    "cleaned_transaction_df = pd.read_csv('data/process/cleaned_transaction.csv')"
   ]
  },
  {
   "cell_type": "code",
   "execution_count": 3,
   "id": "74c8d228-5e1f-4899-bc34-200a087c96d5",
   "metadata": {},
   "outputs": [
    {
     "name": "stdout",
     "output_type": "stream",
     "text": [
      "<class 'pandas.core.frame.DataFrame'>\n",
      "RangeIndex: 1000 entries, 0 to 999\n",
      "Data columns (total 2 columns):\n",
      " #   Column    Non-Null Count  Dtype \n",
      "---  ------    --------------  ----- \n",
      " 0   user_id   1000 non-null   int64 \n",
      " 1   hometown  1000 non-null   object\n",
      "dtypes: int64(1), object(1)\n",
      "memory usage: 15.8+ KB\n"
     ]
    }
   ],
   "source": [
    "cleaned_user_df.info()"
   ]
  },
  {
   "cell_type": "code",
   "execution_count": 4,
   "id": "6d6a1004-151f-409f-96f0-f84994550ec7",
   "metadata": {},
   "outputs": [
    {
     "name": "stdout",
     "output_type": "stream",
     "text": [
      "<class 'pandas.core.frame.DataFrame'>\n",
      "RangeIndex: 41230 entries, 0 to 41229\n",
      "Data columns (total 3 columns):\n",
      " #   Column    Non-Null Count  Dtype \n",
      "---  ------    --------------  ----- \n",
      " 0   datetime  41230 non-null  object\n",
      " 1   user_id   41230 non-null  int64 \n",
      " 2   province  41230 non-null  object\n",
      "dtypes: int64(1), object(2)\n",
      "memory usage: 966.5+ KB\n"
     ]
    }
   ],
   "source": [
    "cleaned_transaction_df.info()"
   ]
  },
  {
   "cell_type": "markdown",
   "id": "ff611ec7-1aca-4996-9c73-6a192c527527",
   "metadata": {},
   "source": [
    "### 🔨 Analysis"
   ]
  },
  {
   "cell_type": "markdown",
   "id": "0fd1d01e-64aa-42cc-9a95-0d8d31be4e1f",
   "metadata": {},
   "source": [
    "#### 💪🏻 Functions"
   ]
  },
  {
   "cell_type": "markdown",
   "id": "67707bc0-30e5-4908-a7b7-d3865787eb3f",
   "metadata": {},
   "source": [
    "First, we declear functions:\n",
    "1. compare_string() for comparing user's hometown and province from cleaned_transaction DataFrame.\n",
    "2. extract_trips() for extracing trip from each user."
   ]
  },
  {
   "cell_type": "code",
   "execution_count": 5,
   "id": "2b46b51f-bdfd-46ad-bb5b-3a4fc2bfe53e",
   "metadata": {},
   "outputs": [],
   "source": [
    "def compare_string(str1, str2):\n",
    "    # Convert both strings to lowercase and remove leading/trailing whitespaces\n",
    "    str1 = str1.lower().strip()\n",
    "    str2 = str2.lower().strip()\n",
    "    # Compare the modified strings for equality\n",
    "    return str1 == str2\n",
    "\n",
    "def extract_trips(user_hometown, user_transaction):\n",
    "    \n",
    "    trips = []\n",
    "\n",
    "    start_date = None\n",
    "    end_date = None\n",
    "    province_list = set() # Using set because we don't want duplication of province that user has visited\n",
    "    \n",
    "    for _, data in user_transaction.iterrows():\n",
    "        province = data['province']\n",
    "\n",
    "        # Check if we can begin or end the user's trip tracking\n",
    "        if compare_string(province, user_hometown):\n",
    "            if start_date is None:\n",
    "                start_date = data['datetime']\n",
    "            elif not province_list:\n",
    "                # For cases of the data is consecutive hometown\n",
    "                start_date = data['datetime']\n",
    "            else:\n",
    "                end_date = data['datetime']\n",
    "        \n",
    "        elif start_date is not None:\n",
    "            # If begin tracking and not in the hometown, add the province to the province_list\n",
    "            province_list.add(province)\n",
    "        \n",
    "        # Create trip row if there is a valid trip (Start from hometown, end at hometown)\n",
    "        if end_date is not None and province_list:\n",
    "        \n",
    "            trip_info = {'start_date': start_date,\n",
    "                      'end_date': end_date,\n",
    "                      'province_list': province_list}\n",
    "            \n",
    "            trips.append(trip_info)\n",
    "            \n",
    "            start_date = end_date # Set end_date as start date for potential next trip\n",
    "            end_date = None\n",
    "            province_list = set()\n",
    "    \n",
    "    return trips"
   ]
  },
  {
   "cell_type": "markdown",
   "id": "dc066022-2e21-417e-aabe-9fc386da8e3e",
   "metadata": {},
   "source": [
    "#### 🥽 Execution"
   ]
  },
  {
   "cell_type": "markdown",
   "id": "4ad98814-98d4-4a28-a375-a6b0d2d7f2f2",
   "metadata": {},
   "source": [
    "Now we execute the function with all user_id"
   ]
  },
  {
   "cell_type": "code",
   "execution_count": 6,
   "id": "7f17eecf-2928-43f8-8d96-f6d30d31fc46",
   "metadata": {},
   "outputs": [],
   "source": [
    "all_user_trips_df = pd.DataFrame()\n",
    "\n",
    "# Get all user's id\n",
    "user_ids = cleaned_user_df['user_id'].to_list()\n",
    "\n",
    "for id in user_ids:\n",
    "\n",
    "    # Get user's hometown\n",
    "    hometown = cleaned_user_df.loc[cleaned_user_df['user_id'] == id, 'hometown'].iloc[0]\n",
    "\n",
    "    # Extract user's transaction from cleaned_transaction_df\n",
    "    user_transaction_df = cleaned_transaction_df[cleaned_transaction_df['user_id'] == id]\n",
    "    user_transaction_df = user_transaction_df.drop(columns=['user_id'])\n",
    "    user_transaction_df['datetime'] = user_transaction_df['datetime'].astype('datetime64[ns]') # Transform object to datetime type\n",
    "\n",
    "    # Extract user's trips list\n",
    "    user_trips = extract_trips(hometown, user_transaction_df)\n",
    "\n",
    "    # Create user's trips DataFrame\n",
    "    user_trips_df = pd.DataFrame(user_trips)\n",
    "    user_trips_df.insert(0, 'user_id', id)\n",
    "\n",
    "    # Aggregate user's trips DataFrame\n",
    "    all_user_trips_df = pd.concat([all_user_trips_df, user_trips_df])"
   ]
  },
  {
   "cell_type": "code",
   "execution_count": 7,
   "id": "843a46ba-0ed7-467e-ba15-21cc51b7671d",
   "metadata": {},
   "outputs": [
    {
     "data": {
      "text/html": [
       "<div>\n",
       "<style scoped>\n",
       "    .dataframe tbody tr th:only-of-type {\n",
       "        vertical-align: middle;\n",
       "    }\n",
       "\n",
       "    .dataframe tbody tr th {\n",
       "        vertical-align: top;\n",
       "    }\n",
       "\n",
       "    .dataframe thead th {\n",
       "        text-align: right;\n",
       "    }\n",
       "</style>\n",
       "<table border=\"1\" class=\"dataframe\">\n",
       "  <thead>\n",
       "    <tr style=\"text-align: right;\">\n",
       "      <th></th>\n",
       "      <th>user_id</th>\n",
       "      <th>start_date</th>\n",
       "      <th>end_date</th>\n",
       "      <th>province_list</th>\n",
       "    </tr>\n",
       "  </thead>\n",
       "  <tbody>\n",
       "    <tr>\n",
       "      <th>0</th>\n",
       "      <td>1</td>\n",
       "      <td>2021-09-16 11:00:00</td>\n",
       "      <td>2021-09-16 23:00:00</td>\n",
       "      <td>{Sukhothai}</td>\n",
       "    </tr>\n",
       "    <tr>\n",
       "      <th>1</th>\n",
       "      <td>1</td>\n",
       "      <td>2021-09-16 23:00:00</td>\n",
       "      <td>2021-11-19 13:00:00</td>\n",
       "      <td>{Phayao}</td>\n",
       "    </tr>\n",
       "    <tr>\n",
       "      <th>2</th>\n",
       "      <td>1</td>\n",
       "      <td>2021-11-19 13:00:00</td>\n",
       "      <td>2021-12-20 12:00:00</td>\n",
       "      <td>{Sukhothai, Chiang Rai, Lampang, Phayao}</td>\n",
       "    </tr>\n",
       "    <tr>\n",
       "      <th>3</th>\n",
       "      <td>1</td>\n",
       "      <td>2021-12-20 12:00:00</td>\n",
       "      <td>2021-12-20 22:00:00</td>\n",
       "      <td>{Lampang}</td>\n",
       "    </tr>\n",
       "    <tr>\n",
       "      <th>4</th>\n",
       "      <td>1</td>\n",
       "      <td>2021-12-20 22:00:00</td>\n",
       "      <td>2021-12-25 22:00:00</td>\n",
       "      <td>{Nonthaburi, Bangkok}</td>\n",
       "    </tr>\n",
       "    <tr>\n",
       "      <th>5</th>\n",
       "      <td>1</td>\n",
       "      <td>2021-12-28 15:00:00</td>\n",
       "      <td>2021-12-29 08:00:00</td>\n",
       "      <td>{Lampang}</td>\n",
       "    </tr>\n",
       "    <tr>\n",
       "      <th>0</th>\n",
       "      <td>2</td>\n",
       "      <td>2021-01-02 11:00:00</td>\n",
       "      <td>2021-01-02 17:00:00</td>\n",
       "      <td>{Phra Nakhon Si Ayutthaya}</td>\n",
       "    </tr>\n",
       "    <tr>\n",
       "      <th>1</th>\n",
       "      <td>2</td>\n",
       "      <td>2021-04-05 10:00:00</td>\n",
       "      <td>2021-04-06 20:00:00</td>\n",
       "      <td>{Ang Thong, Phra Nakhon Si Ayutthaya, Nonthaburi}</td>\n",
       "    </tr>\n",
       "    <tr>\n",
       "      <th>2</th>\n",
       "      <td>2</td>\n",
       "      <td>2021-09-15 09:00:00</td>\n",
       "      <td>2021-09-16 06:00:00</td>\n",
       "      <td>{Nonthaburi}</td>\n",
       "    </tr>\n",
       "    <tr>\n",
       "      <th>3</th>\n",
       "      <td>2</td>\n",
       "      <td>2021-10-19 13:00:00</td>\n",
       "      <td>2021-10-20 00:00:00</td>\n",
       "      <td>{Phra Nakhon Si Ayutthaya, Nonthaburi}</td>\n",
       "    </tr>\n",
       "  </tbody>\n",
       "</table>\n",
       "</div>"
      ],
      "text/plain": [
       "   user_id          start_date            end_date  \\\n",
       "0        1 2021-09-16 11:00:00 2021-09-16 23:00:00   \n",
       "1        1 2021-09-16 23:00:00 2021-11-19 13:00:00   \n",
       "2        1 2021-11-19 13:00:00 2021-12-20 12:00:00   \n",
       "3        1 2021-12-20 12:00:00 2021-12-20 22:00:00   \n",
       "4        1 2021-12-20 22:00:00 2021-12-25 22:00:00   \n",
       "5        1 2021-12-28 15:00:00 2021-12-29 08:00:00   \n",
       "0        2 2021-01-02 11:00:00 2021-01-02 17:00:00   \n",
       "1        2 2021-04-05 10:00:00 2021-04-06 20:00:00   \n",
       "2        2 2021-09-15 09:00:00 2021-09-16 06:00:00   \n",
       "3        2 2021-10-19 13:00:00 2021-10-20 00:00:00   \n",
       "\n",
       "                                       province_list  \n",
       "0                                        {Sukhothai}  \n",
       "1                                           {Phayao}  \n",
       "2           {Sukhothai, Chiang Rai, Lampang, Phayao}  \n",
       "3                                          {Lampang}  \n",
       "4                              {Nonthaburi, Bangkok}  \n",
       "5                                          {Lampang}  \n",
       "0                         {Phra Nakhon Si Ayutthaya}  \n",
       "1  {Ang Thong, Phra Nakhon Si Ayutthaya, Nonthaburi}  \n",
       "2                                       {Nonthaburi}  \n",
       "3             {Phra Nakhon Si Ayutthaya, Nonthaburi}  "
      ]
     },
     "execution_count": 7,
     "metadata": {},
     "output_type": "execute_result"
    }
   ],
   "source": [
    "all_user_trips_df.head(10)"
   ]
  },
  {
   "cell_type": "markdown",
   "id": "2c326c03-22b5-4f69-9ef0-96744e304bf5",
   "metadata": {},
   "source": [
    "Reset index and add trip_id column"
   ]
  },
  {
   "cell_type": "code",
   "execution_count": 8,
   "id": "6ae21c25-0d3e-4f09-b89e-bd8c2fa11e91",
   "metadata": {},
   "outputs": [],
   "source": [
    "result_df = all_user_trips_df.reset_index(drop=True)\n",
    "result_df.insert(0, 'trip_id', range(1, len(result_df)+1))"
   ]
  },
  {
   "cell_type": "markdown",
   "id": "2fcdb4fd-e74f-484a-9ea7-e61e1060f6e9",
   "metadata": {},
   "source": [
    "### ✨ Result"
   ]
  },
  {
   "cell_type": "code",
   "execution_count": 9,
   "id": "d4df4957-8e7a-4ab4-acfd-c435f442035d",
   "metadata": {},
   "outputs": [
    {
     "name": "stdout",
     "output_type": "stream",
     "text": [
      "<class 'pandas.core.frame.DataFrame'>\n",
      "RangeIndex: 10341 entries, 0 to 10340\n",
      "Data columns (total 5 columns):\n",
      " #   Column         Non-Null Count  Dtype         \n",
      "---  ------         --------------  -----         \n",
      " 0   trip_id        10341 non-null  int64         \n",
      " 1   user_id        10341 non-null  int64         \n",
      " 2   start_date     10341 non-null  datetime64[ns]\n",
      " 3   end_date       10341 non-null  datetime64[ns]\n",
      " 4   province_list  10341 non-null  object        \n",
      "dtypes: datetime64[ns](2), int64(2), object(1)\n",
      "memory usage: 404.1+ KB\n"
     ]
    },
    {
     "data": {
      "text/plain": [
       "None"
      ]
     },
     "metadata": {},
     "output_type": "display_data"
    },
    {
     "data": {
      "text/html": [
       "<div>\n",
       "<style scoped>\n",
       "    .dataframe tbody tr th:only-of-type {\n",
       "        vertical-align: middle;\n",
       "    }\n",
       "\n",
       "    .dataframe tbody tr th {\n",
       "        vertical-align: top;\n",
       "    }\n",
       "\n",
       "    .dataframe thead th {\n",
       "        text-align: right;\n",
       "    }\n",
       "</style>\n",
       "<table border=\"1\" class=\"dataframe\">\n",
       "  <thead>\n",
       "    <tr style=\"text-align: right;\">\n",
       "      <th></th>\n",
       "      <th>trip_id</th>\n",
       "      <th>user_id</th>\n",
       "      <th>start_date</th>\n",
       "      <th>end_date</th>\n",
       "      <th>province_list</th>\n",
       "    </tr>\n",
       "  </thead>\n",
       "  <tbody>\n",
       "    <tr>\n",
       "      <th>0</th>\n",
       "      <td>1</td>\n",
       "      <td>1</td>\n",
       "      <td>2021-09-16 11:00:00</td>\n",
       "      <td>2021-09-16 23:00:00</td>\n",
       "      <td>{Sukhothai}</td>\n",
       "    </tr>\n",
       "    <tr>\n",
       "      <th>1</th>\n",
       "      <td>2</td>\n",
       "      <td>1</td>\n",
       "      <td>2021-09-16 23:00:00</td>\n",
       "      <td>2021-11-19 13:00:00</td>\n",
       "      <td>{Phayao}</td>\n",
       "    </tr>\n",
       "    <tr>\n",
       "      <th>2</th>\n",
       "      <td>3</td>\n",
       "      <td>1</td>\n",
       "      <td>2021-11-19 13:00:00</td>\n",
       "      <td>2021-12-20 12:00:00</td>\n",
       "      <td>{Sukhothai, Chiang Rai, Lampang, Phayao}</td>\n",
       "    </tr>\n",
       "    <tr>\n",
       "      <th>3</th>\n",
       "      <td>4</td>\n",
       "      <td>1</td>\n",
       "      <td>2021-12-20 12:00:00</td>\n",
       "      <td>2021-12-20 22:00:00</td>\n",
       "      <td>{Lampang}</td>\n",
       "    </tr>\n",
       "    <tr>\n",
       "      <th>4</th>\n",
       "      <td>5</td>\n",
       "      <td>1</td>\n",
       "      <td>2021-12-20 22:00:00</td>\n",
       "      <td>2021-12-25 22:00:00</td>\n",
       "      <td>{Nonthaburi, Bangkok}</td>\n",
       "    </tr>\n",
       "    <tr>\n",
       "      <th>5</th>\n",
       "      <td>6</td>\n",
       "      <td>1</td>\n",
       "      <td>2021-12-28 15:00:00</td>\n",
       "      <td>2021-12-29 08:00:00</td>\n",
       "      <td>{Lampang}</td>\n",
       "    </tr>\n",
       "    <tr>\n",
       "      <th>6</th>\n",
       "      <td>7</td>\n",
       "      <td>2</td>\n",
       "      <td>2021-01-02 11:00:00</td>\n",
       "      <td>2021-01-02 17:00:00</td>\n",
       "      <td>{Phra Nakhon Si Ayutthaya}</td>\n",
       "    </tr>\n",
       "    <tr>\n",
       "      <th>7</th>\n",
       "      <td>8</td>\n",
       "      <td>2</td>\n",
       "      <td>2021-04-05 10:00:00</td>\n",
       "      <td>2021-04-06 20:00:00</td>\n",
       "      <td>{Ang Thong, Phra Nakhon Si Ayutthaya, Nonthaburi}</td>\n",
       "    </tr>\n",
       "    <tr>\n",
       "      <th>8</th>\n",
       "      <td>9</td>\n",
       "      <td>2</td>\n",
       "      <td>2021-09-15 09:00:00</td>\n",
       "      <td>2021-09-16 06:00:00</td>\n",
       "      <td>{Nonthaburi}</td>\n",
       "    </tr>\n",
       "    <tr>\n",
       "      <th>9</th>\n",
       "      <td>10</td>\n",
       "      <td>2</td>\n",
       "      <td>2021-10-19 13:00:00</td>\n",
       "      <td>2021-10-20 00:00:00</td>\n",
       "      <td>{Phra Nakhon Si Ayutthaya, Nonthaburi}</td>\n",
       "    </tr>\n",
       "  </tbody>\n",
       "</table>\n",
       "</div>"
      ],
      "text/plain": [
       "   trip_id  user_id          start_date            end_date  \\\n",
       "0        1        1 2021-09-16 11:00:00 2021-09-16 23:00:00   \n",
       "1        2        1 2021-09-16 23:00:00 2021-11-19 13:00:00   \n",
       "2        3        1 2021-11-19 13:00:00 2021-12-20 12:00:00   \n",
       "3        4        1 2021-12-20 12:00:00 2021-12-20 22:00:00   \n",
       "4        5        1 2021-12-20 22:00:00 2021-12-25 22:00:00   \n",
       "5        6        1 2021-12-28 15:00:00 2021-12-29 08:00:00   \n",
       "6        7        2 2021-01-02 11:00:00 2021-01-02 17:00:00   \n",
       "7        8        2 2021-04-05 10:00:00 2021-04-06 20:00:00   \n",
       "8        9        2 2021-09-15 09:00:00 2021-09-16 06:00:00   \n",
       "9       10        2 2021-10-19 13:00:00 2021-10-20 00:00:00   \n",
       "\n",
       "                                       province_list  \n",
       "0                                        {Sukhothai}  \n",
       "1                                           {Phayao}  \n",
       "2           {Sukhothai, Chiang Rai, Lampang, Phayao}  \n",
       "3                                          {Lampang}  \n",
       "4                              {Nonthaburi, Bangkok}  \n",
       "5                                          {Lampang}  \n",
       "6                         {Phra Nakhon Si Ayutthaya}  \n",
       "7  {Ang Thong, Phra Nakhon Si Ayutthaya, Nonthaburi}  \n",
       "8                                       {Nonthaburi}  \n",
       "9             {Phra Nakhon Si Ayutthaya, Nonthaburi}  "
      ]
     },
     "metadata": {},
     "output_type": "display_data"
    }
   ],
   "source": [
    "display(result_df.info(), result_df.head(10))"
   ]
  },
  {
   "cell_type": "markdown",
   "id": "68a55adf-325c-4bf9-bce2-485ddd899d19",
   "metadata": {},
   "source": [
    "Now, the **result_df** is ready for answering questions. However, before proceeding, let's save our results to **output.csv** in the correct format."
   ]
  },
  {
   "cell_type": "code",
   "execution_count": 10,
   "id": "999e4e61-efe9-45e4-8ea7-cfc2b669215a",
   "metadata": {},
   "outputs": [],
   "source": [
    "def result_to_output(result_df):\n",
    "    output_df = result_df.copy()\n",
    "    output_df['start_date'] = output_df['start_date'].apply(lambda x: x.strftime('%Y-%m-%d'))\n",
    "    output_df['end_date'] = output_df['end_date'].apply(lambda x: x.strftime('%Y-%m-%d'))\n",
    "    output_df['province_list'] = output_df['province_list'].apply(lambda x: ', '.join(x))\n",
    "\n",
    "    return output_df    "
   ]
  },
  {
   "cell_type": "code",
   "execution_count": 11,
   "id": "c143dc78-103c-415f-90a8-562af32e1ba3",
   "metadata": {},
   "outputs": [],
   "source": [
    "output_df = result_to_output(result_df)\n",
    "output_df.to_csv('data/output/output.csv')"
   ]
  },
  {
   "cell_type": "markdown",
   "id": "98bff6c0-9172-4917-b78f-05c0e37a4413",
   "metadata": {},
   "source": [
    "___"
   ]
  },
  {
   "cell_type": "markdown",
   "id": "18a0fa89-a7e0-47f8-aeac-5db0753bf5d9",
   "metadata": {},
   "source": [
    "### 🧠 Question #1\n",
    "What is the total number of trips?"
   ]
  },
  {
   "cell_type": "markdown",
   "id": "0b725dae-17eb-43eb-953d-833160b51e51",
   "metadata": {},
   "source": [
    "We can get the answer from the len of the result DataFrame"
   ]
  },
  {
   "cell_type": "code",
   "execution_count": 12,
   "id": "8b5020ea-d1ea-431d-8fcb-c9565eba2109",
   "metadata": {},
   "outputs": [
    {
     "name": "stdout",
     "output_type": "stream",
     "text": [
      "The total number of trip(s): 10341\n"
     ]
    }
   ],
   "source": [
    "print(f'The total number of trip(s): {len(result_df)}')"
   ]
  },
  {
   "cell_type": "markdown",
   "id": "43c5de37-e6f9-4866-82e6-f43f4c541e3b",
   "metadata": {},
   "source": [
    "___"
   ]
  },
  {
   "cell_type": "markdown",
   "id": "c30d5ffd-36ef-47fa-9e9e-8f5a24b03de8",
   "metadata": {},
   "source": [
    "### 🧠 Question #2\n",
    "How many provinces are there in the trip with the most number of provinces?"
   ]
  },
  {
   "cell_type": "markdown",
   "id": "21e1e271-0f0b-4874-ab97-6204e8ca7f7e",
   "metadata": {},
   "source": [
    "In other words, we aim to find the maximum length of the sets in the 'province_list' column."
   ]
  },
  {
   "cell_type": "code",
   "execution_count": 13,
   "id": "cb7d4019-03e3-409e-84a1-d8443990baae",
   "metadata": {},
   "outputs": [
    {
     "name": "stdout",
     "output_type": "stream",
     "text": [
      "There are 12 province(s) in the trip with the most number of provinces\n"
     ]
    }
   ],
   "source": [
    "max_province = result_df['province_list'].apply(len).max()\n",
    "print(f'There are {max_province} province(s) in the trip with the most number of provinces')"
   ]
  },
  {
   "cell_type": "markdown",
   "id": "5798df17-2d23-44c2-8e83-0eb2aca44dd1",
   "metadata": {},
   "source": [
    "___"
   ]
  },
  {
   "cell_type": "markdown",
   "id": "d25f5e60-a89e-4819-b02f-a9171915b40a",
   "metadata": {},
   "source": [
    "### 🧠 Question #3\n",
    "What are the most common province pairs that people travel to in the same trip?\n"
   ]
  },
  {
   "cell_type": "markdown",
   "id": "ab724272-a3b8-445d-802f-30274f944485",
   "metadata": {},
   "source": [
    "To answer this question, we need to find the common pair of all the province in province_list"
   ]
  },
  {
   "cell_type": "code",
   "execution_count": 14,
   "id": "a7d54fe5-0213-49ec-a35f-10363f4f4df5",
   "metadata": {},
   "outputs": [],
   "source": [
    "# Select only province_list column\n",
    "province_df = result_df['province_list']"
   ]
  },
  {
   "cell_type": "code",
   "execution_count": 15,
   "id": "16caef1f-a20e-40bb-82d3-6dfd7a89a043",
   "metadata": {},
   "outputs": [
    {
     "name": "stdout",
     "output_type": "stream",
     "text": [
      "<class 'pandas.core.series.Series'>\n",
      "RangeIndex: 10341 entries, 0 to 10340\n",
      "Series name: province_list\n",
      "Non-Null Count  Dtype \n",
      "--------------  ----- \n",
      "10341 non-null  object\n",
      "dtypes: object(1)\n",
      "memory usage: 80.9+ KB\n"
     ]
    },
    {
     "data": {
      "text/plain": [
       "None"
      ]
     },
     "metadata": {},
     "output_type": "display_data"
    },
    {
     "data": {
      "text/plain": [
       "0                                 {Sukhothai}\n",
       "1                                    {Phayao}\n",
       "2    {Sukhothai, Chiang Rai, Lampang, Phayao}\n",
       "3                                   {Lampang}\n",
       "4                       {Nonthaburi, Bangkok}\n",
       "Name: province_list, dtype: object"
      ]
     },
     "metadata": {},
     "output_type": "display_data"
    }
   ],
   "source": [
    "display(province_df.info(), province_df.head())"
   ]
  },
  {
   "cell_type": "markdown",
   "id": "e10fa63b-ac19-42b5-8b11-54ce9cffafe0",
   "metadata": {},
   "source": [
    "___"
   ]
  },
  {
   "cell_type": "markdown",
   "id": "bcc3535c-c6b1-4456-b771-5aa91ccaba98",
   "metadata": {},
   "source": [
    "Exclude sets of provinces that are equal to 1, as we are looking for common pairs."
   ]
  },
  {
   "cell_type": "code",
   "execution_count": 16,
   "id": "0a47e9df-a9ac-41fb-9126-63f6670ba43d",
   "metadata": {},
   "outputs": [],
   "source": [
    "province_df = province_df[province_df.apply(lambda x: len(x) != 1)]"
   ]
  },
  {
   "cell_type": "code",
   "execution_count": 17,
   "id": "606bf91a-e395-4be9-b0a1-14ae4250a19a",
   "metadata": {},
   "outputs": [
    {
     "name": "stdout",
     "output_type": "stream",
     "text": [
      "<class 'pandas.core.series.Series'>\n",
      "Index: 5047 entries, 2 to 10339\n",
      "Series name: province_list\n",
      "Non-Null Count  Dtype \n",
      "--------------  ----- \n",
      "5047 non-null   object\n",
      "dtypes: object(1)\n",
      "memory usage: 78.9+ KB\n"
     ]
    },
    {
     "data": {
      "text/plain": [
       "None"
      ]
     },
     "metadata": {},
     "output_type": "display_data"
    },
    {
     "data": {
      "text/plain": [
       "2              {Sukhothai, Chiang Rai, Lampang, Phayao}\n",
       "4                                 {Nonthaburi, Bangkok}\n",
       "7     {Ang Thong, Phra Nakhon Si Ayutthaya, Nonthaburi}\n",
       "9                {Phra Nakhon Si Ayutthaya, Nonthaburi}\n",
       "10                                {Nonthaburi, Bangkok}\n",
       "Name: province_list, dtype: object"
      ]
     },
     "metadata": {},
     "output_type": "display_data"
    }
   ],
   "source": [
    "display(province_df.info(), province_df.head())"
   ]
  },
  {
   "cell_type": "markdown",
   "id": "2fcd0b0d-ed03-4e82-aa15-b417509de796",
   "metadata": {},
   "source": [
    "___"
   ]
  },
  {
   "cell_type": "markdown",
   "id": "cb270449-bb03-43be-9dac-8e78aebc78dc",
   "metadata": {},
   "source": [
    "Convert sets into lists and sort them to ensure consistent pairs. For example, we will have only ('Chiang Rai', 'Lampang') and not ('Lampang', 'Chiang Rai')."
   ]
  },
  {
   "cell_type": "code",
   "execution_count": 18,
   "id": "15c7f587-e0ad-4a06-9431-252fe96ac3c4",
   "metadata": {},
   "outputs": [],
   "source": [
    "province_list = province_df.apply(lambda x: sorted(list(x))).to_list()"
   ]
  },
  {
   "cell_type": "code",
   "execution_count": 19,
   "id": "dfeb265d-2e87-456a-bf44-8e13e59f64e9",
   "metadata": {},
   "outputs": [
    {
     "data": {
      "text/plain": [
       "[['Chiang Rai', 'Lampang', 'Phayao', 'Sukhothai'],\n",
       " ['Bangkok', 'Nonthaburi'],\n",
       " ['Ang Thong', 'Nonthaburi', 'Phra Nakhon Si Ayutthaya'],\n",
       " ['Nonthaburi', 'Phra Nakhon Si Ayutthaya'],\n",
       " ['Bangkok', 'Nonthaburi']]"
      ]
     },
     "execution_count": 19,
     "metadata": {},
     "output_type": "execute_result"
    }
   ],
   "source": [
    "province_list[:5]"
   ]
  },
  {
   "cell_type": "markdown",
   "id": "7fb8ce1e-d0fa-49dd-9eef-6feccf51b69f",
   "metadata": {},
   "source": [
    "___"
   ]
  },
  {
   "cell_type": "markdown",
   "id": "4c6cb68e-512d-4234-8e5a-07213c13823f",
   "metadata": {},
   "source": [
    "Next, we create all pair from each list in province_list"
   ]
  },
  {
   "cell_type": "code",
   "execution_count": 20,
   "id": "34df8b11-b4fc-4a6e-bb51-827bf1461687",
   "metadata": {},
   "outputs": [],
   "source": [
    "from itertools import combinations\n",
    "\n",
    "province_pairs = []\n",
    "\n",
    "for provinces in province_list:\n",
    "  all_pairs = list(combinations(provinces, 2))\n",
    "  province_pairs.extend(all_pairs)"
   ]
  },
  {
   "cell_type": "code",
   "execution_count": 21,
   "id": "df35211d-93cb-4e1d-807b-b73f4d1f11c8",
   "metadata": {},
   "outputs": [
    {
     "name": "stdout",
     "output_type": "stream",
     "text": [
      "There are 21371 pair(s)\n"
     ]
    }
   ],
   "source": [
    "print(f'There are {len(province_pairs)} pair(s)')"
   ]
  },
  {
   "cell_type": "code",
   "execution_count": 22,
   "id": "c85a3eec-a6a7-4851-8b21-ea9c618436bb",
   "metadata": {},
   "outputs": [
    {
     "data": {
      "text/plain": [
       "[('Chiang Rai', 'Lampang'),\n",
       " ('Chiang Rai', 'Phayao'),\n",
       " ('Chiang Rai', 'Sukhothai'),\n",
       " ('Lampang', 'Phayao'),\n",
       " ('Lampang', 'Sukhothai')]"
      ]
     },
     "execution_count": 22,
     "metadata": {},
     "output_type": "execute_result"
    }
   ],
   "source": [
    "province_pairs[:5]"
   ]
  },
  {
   "cell_type": "markdown",
   "id": "5099a69d-f022-493b-af21-0ea08d2959fd",
   "metadata": {},
   "source": [
    "___"
   ]
  },
  {
   "cell_type": "markdown",
   "id": "9f4e46af-faea-4489-85e1-aedbbf291699",
   "metadata": {},
   "source": [
    "Use province_pairs to create dataframe and calculate the most common pair"
   ]
  },
  {
   "cell_type": "code",
   "execution_count": 23,
   "id": "ee0246d9-70f9-4612-85e6-d2caf94b613f",
   "metadata": {},
   "outputs": [],
   "source": [
    "pair_df = pd.DataFrame(province_pairs, columns=['province1', 'province2'])"
   ]
  },
  {
   "cell_type": "code",
   "execution_count": 24,
   "id": "7ed35b87-d7d2-4c7d-9740-ea8b0ea3a7d2",
   "metadata": {},
   "outputs": [
    {
     "data": {
      "text/html": [
       "<div>\n",
       "<style scoped>\n",
       "    .dataframe tbody tr th:only-of-type {\n",
       "        vertical-align: middle;\n",
       "    }\n",
       "\n",
       "    .dataframe tbody tr th {\n",
       "        vertical-align: top;\n",
       "    }\n",
       "\n",
       "    .dataframe thead th {\n",
       "        text-align: right;\n",
       "    }\n",
       "</style>\n",
       "<table border=\"1\" class=\"dataframe\">\n",
       "  <thead>\n",
       "    <tr style=\"text-align: right;\">\n",
       "      <th></th>\n",
       "      <th>province1</th>\n",
       "      <th>province2</th>\n",
       "    </tr>\n",
       "  </thead>\n",
       "  <tbody>\n",
       "    <tr>\n",
       "      <th>0</th>\n",
       "      <td>Chiang Rai</td>\n",
       "      <td>Lampang</td>\n",
       "    </tr>\n",
       "    <tr>\n",
       "      <th>1</th>\n",
       "      <td>Chiang Rai</td>\n",
       "      <td>Phayao</td>\n",
       "    </tr>\n",
       "    <tr>\n",
       "      <th>2</th>\n",
       "      <td>Chiang Rai</td>\n",
       "      <td>Sukhothai</td>\n",
       "    </tr>\n",
       "    <tr>\n",
       "      <th>3</th>\n",
       "      <td>Lampang</td>\n",
       "      <td>Phayao</td>\n",
       "    </tr>\n",
       "    <tr>\n",
       "      <th>4</th>\n",
       "      <td>Lampang</td>\n",
       "      <td>Sukhothai</td>\n",
       "    </tr>\n",
       "  </tbody>\n",
       "</table>\n",
       "</div>"
      ],
      "text/plain": [
       "    province1  province2\n",
       "0  Chiang Rai    Lampang\n",
       "1  Chiang Rai     Phayao\n",
       "2  Chiang Rai  Sukhothai\n",
       "3     Lampang     Phayao\n",
       "4     Lampang  Sukhothai"
      ]
     },
     "execution_count": 24,
     "metadata": {},
     "output_type": "execute_result"
    }
   ],
   "source": [
    "pair_df.head()"
   ]
  },
  {
   "cell_type": "code",
   "execution_count": 25,
   "id": "ab3084d7-0677-4c80-9225-0cd99741ebca",
   "metadata": {},
   "outputs": [],
   "source": [
    "# Create new column for calculate the occurence of each pair\n",
    "pair_df['occurrence(s)'] = 1"
   ]
  },
  {
   "cell_type": "code",
   "execution_count": 26,
   "id": "a5bf6bac-e4bc-45a3-8217-6a4b730d5869",
   "metadata": {},
   "outputs": [
    {
     "data": {
      "text/html": [
       "<div>\n",
       "<style scoped>\n",
       "    .dataframe tbody tr th:only-of-type {\n",
       "        vertical-align: middle;\n",
       "    }\n",
       "\n",
       "    .dataframe tbody tr th {\n",
       "        vertical-align: top;\n",
       "    }\n",
       "\n",
       "    .dataframe thead th {\n",
       "        text-align: right;\n",
       "    }\n",
       "</style>\n",
       "<table border=\"1\" class=\"dataframe\">\n",
       "  <thead>\n",
       "    <tr style=\"text-align: right;\">\n",
       "      <th></th>\n",
       "      <th>province1</th>\n",
       "      <th>province2</th>\n",
       "      <th>occurrence(s)</th>\n",
       "    </tr>\n",
       "  </thead>\n",
       "  <tbody>\n",
       "    <tr>\n",
       "      <th>0</th>\n",
       "      <td>Chiang Rai</td>\n",
       "      <td>Lampang</td>\n",
       "      <td>1</td>\n",
       "    </tr>\n",
       "    <tr>\n",
       "      <th>1</th>\n",
       "      <td>Chiang Rai</td>\n",
       "      <td>Phayao</td>\n",
       "      <td>1</td>\n",
       "    </tr>\n",
       "    <tr>\n",
       "      <th>2</th>\n",
       "      <td>Chiang Rai</td>\n",
       "      <td>Sukhothai</td>\n",
       "      <td>1</td>\n",
       "    </tr>\n",
       "    <tr>\n",
       "      <th>3</th>\n",
       "      <td>Lampang</td>\n",
       "      <td>Phayao</td>\n",
       "      <td>1</td>\n",
       "    </tr>\n",
       "    <tr>\n",
       "      <th>4</th>\n",
       "      <td>Lampang</td>\n",
       "      <td>Sukhothai</td>\n",
       "      <td>1</td>\n",
       "    </tr>\n",
       "  </tbody>\n",
       "</table>\n",
       "</div>"
      ],
      "text/plain": [
       "    province1  province2  occurrence(s)\n",
       "0  Chiang Rai    Lampang              1\n",
       "1  Chiang Rai     Phayao              1\n",
       "2  Chiang Rai  Sukhothai              1\n",
       "3     Lampang     Phayao              1\n",
       "4     Lampang  Sukhothai              1"
      ]
     },
     "execution_count": 26,
     "metadata": {},
     "output_type": "execute_result"
    }
   ],
   "source": [
    "pair_df.head()"
   ]
  },
  {
   "cell_type": "markdown",
   "id": "1b8399af-9469-48ff-bc2f-34d94ff8433c",
   "metadata": {},
   "source": [
    "Compute common pairs by grouping with 'province 1' and 'province 2', then sum the occurrences of each unique pair."
   ]
  },
  {
   "cell_type": "code",
   "execution_count": 27,
   "id": "3502bfaf-002a-4979-a3bd-1d13e97de351",
   "metadata": {},
   "outputs": [],
   "source": [
    "common_pair_df = pair_df.groupby(['province1', 'province2']).sum().reset_index()"
   ]
  },
  {
   "cell_type": "code",
   "execution_count": 28,
   "id": "f28c5208-e6eb-40c7-95d8-e6ddb577f6de",
   "metadata": {},
   "outputs": [
    {
     "data": {
      "text/html": [
       "<div>\n",
       "<style scoped>\n",
       "    .dataframe tbody tr th:only-of-type {\n",
       "        vertical-align: middle;\n",
       "    }\n",
       "\n",
       "    .dataframe tbody tr th {\n",
       "        vertical-align: top;\n",
       "    }\n",
       "\n",
       "    .dataframe thead th {\n",
       "        text-align: right;\n",
       "    }\n",
       "</style>\n",
       "<table border=\"1\" class=\"dataframe\">\n",
       "  <thead>\n",
       "    <tr style=\"text-align: right;\">\n",
       "      <th></th>\n",
       "      <th>province1</th>\n",
       "      <th>province2</th>\n",
       "      <th>occurrence(s)</th>\n",
       "    </tr>\n",
       "  </thead>\n",
       "  <tbody>\n",
       "    <tr>\n",
       "      <th>347</th>\n",
       "      <td>Nonthaburi</td>\n",
       "      <td>Pathum Thani</td>\n",
       "      <td>464</td>\n",
       "    </tr>\n",
       "    <tr>\n",
       "      <th>369</th>\n",
       "      <td>Pathum Thani</td>\n",
       "      <td>Phra Nakhon Si Ayutthaya</td>\n",
       "      <td>415</td>\n",
       "    </tr>\n",
       "    <tr>\n",
       "      <th>323</th>\n",
       "      <td>Nakhon Pathom</td>\n",
       "      <td>Samut Sakhon</td>\n",
       "      <td>379</td>\n",
       "    </tr>\n",
       "    <tr>\n",
       "      <th>45</th>\n",
       "      <td>Bangkok</td>\n",
       "      <td>Pathum Thani</td>\n",
       "      <td>361</td>\n",
       "    </tr>\n",
       "    <tr>\n",
       "      <th>468</th>\n",
       "      <td>Ratchaburi</td>\n",
       "      <td>Samut Sakhon</td>\n",
       "      <td>354</td>\n",
       "    </tr>\n",
       "  </tbody>\n",
       "</table>\n",
       "</div>"
      ],
      "text/plain": [
       "         province1                 province2  occurrence(s)\n",
       "347     Nonthaburi              Pathum Thani            464\n",
       "369   Pathum Thani  Phra Nakhon Si Ayutthaya            415\n",
       "323  Nakhon Pathom              Samut Sakhon            379\n",
       "45         Bangkok              Pathum Thani            361\n",
       "468     Ratchaburi              Samut Sakhon            354"
      ]
     },
     "execution_count": 28,
     "metadata": {},
     "output_type": "execute_result"
    }
   ],
   "source": [
    "common_pair_df.sort_values(by=['occurrence(s)'], axis=0, ascending=False).head()"
   ]
  },
  {
   "cell_type": "markdown",
   "id": "47478cf7-3f25-4f7b-a764-5ae32a31b3af",
   "metadata": {},
   "source": [
    "The common province pair that people most travel in the same trip is **Nonthaburi <--> Pathum Thani** with the occurence of this pair at **464**"
   ]
  },
  {
   "cell_type": "markdown",
   "id": "67173dde-5215-4416-bfa8-cdfabb8adec4",
   "metadata": {},
   "source": [
    "___"
   ]
  },
  {
   "cell_type": "markdown",
   "id": "7610d675-d856-41fc-9d2c-f20d6d8c3237",
   "metadata": {},
   "source": [
    "### 🎓 All Questions answer"
   ]
  },
  {
   "cell_type": "markdown",
   "id": "91cf890a-a68c-4a89-a8c8-b50d5ac532aa",
   "metadata": {},
   "source": [
    "1. **What are the most common province pairs that people travel to in the same trip?**\n",
    "    - The total number of trip(s): 10341\n",
    "2. **How many provinces are there in the trip with the most number of provinces?**\n",
    "    - There are 12 province(s) in the trip with the most number of provinces\n",
    "3. **What are the most common province pairs that people travel to in the same trip?**\n",
    "    - The common province pair that people most travel in the same trip is Nonthaburi <--> Pathum Thani with the occurence of this pair at 464"
   ]
  }
 ],
 "metadata": {
  "kernelspec": {
   "display_name": "Python 3 (ipykernel)",
   "language": "python",
   "name": "python3"
  },
  "language_info": {
   "codemirror_mode": {
    "name": "ipython",
    "version": 3
   },
   "file_extension": ".py",
   "mimetype": "text/x-python",
   "name": "python",
   "nbconvert_exporter": "python",
   "pygments_lexer": "ipython3",
   "version": "3.11.5"
  }
 },
 "nbformat": 4,
 "nbformat_minor": 5
}
